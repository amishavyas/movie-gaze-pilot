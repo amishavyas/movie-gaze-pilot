{
 "cells": [
  {
   "cell_type": "markdown",
   "metadata": {},
   "source": [
    "Start recordings at the same time."
   ]
  },
  {
   "cell_type": "code",
   "execution_count": 27,
   "metadata": {},
   "outputs": [],
   "source": [
    "from pupil_labs.realtime_api.simple import discover_devices, discover_one_device, Device\n",
    "from datetime import datetime\n",
    "import nest_asyncio\n",
    "import threading\n",
    "import time\n",
    "\n",
    "nest_asyncio.apply()"
   ]
  },
  {
   "cell_type": "code",
   "execution_count": 28,
   "metadata": {},
   "outputs": [
    {
     "data": {
      "text/plain": [
       "Device(ip=10.206.114.147, port=8080, dns=neon-1.local.)"
      ]
     },
     "execution_count": 28,
     "metadata": {},
     "output_type": "execute_result"
    }
   ],
   "source": [
    "# devices = discover_devices(search_duration_seconds=10.0)\n",
    "devices = discover_one_device(max_search_duration_seconds=10.0)                                                                                   \n",
    "devices                           "
   ]
  },
  {
   "cell_type": "code",
   "execution_count": 17,
   "metadata": {},
   "outputs": [],
   "source": [
    "ip = \"10.206.114.147\"\n",
    "device = Device(address=ip, port=\"8080\")"
   ]
  },
  {
   "cell_type": "code",
   "execution_count": 26,
   "metadata": {},
   "outputs": [
    {
     "name": "stderr",
     "output_type": "stream",
     "text": [
      "Exception ignored in: <async_generator object connect.__aiter__ at 0x12ce463e0>\n",
      "Traceback (most recent call last):\n",
      "  File \"/opt/anaconda3/envs/eyetracker/lib/python3.13/site-packages/pupil_labs/realtime_api/device.py\", line 82, in status_updates\n",
      "    break\n",
      "RuntimeError: async generator ignored GeneratorExit\n"
     ]
    },
    {
     "name": "stdout",
     "output_type": "stream",
     "text": [
      "Looking for the next best device...\n",
      "Phone IP address: 10.206.114.147\n",
      "Phone name: IRIS\n",
      "Phone unique ID: 6a304536c7211443\n",
      "Battery level: 38%\n",
      "Battery state: OK\n",
      "Free storage: 214.16532516479492GB\n",
      "Storage level: OK\n",
      "Connected glasses: SN -1\n",
      "Connected scene camera: SN -1\n",
      "\n"
     ]
    }
   ],
   "source": [
    "# Look for devices. Returns as soon as it has found the first device.\n",
    "print(\"Looking for the next best device...\")\n",
    "\n",
    "# Device status is fetched on initialization and kept up-to-date in the background\n",
    "for device in [devices]:\n",
    "\n",
    "    if device is None:\n",
    "        print(\"No device found.\")\n",
    "        raise SystemExit(-1)\n",
    "\n",
    "    print(f\"Phone IP address: {device.phone_ip}\")\n",
    "    print(f\"Phone name: {device.phone_name}\")\n",
    "    print(f\"Phone unique ID: {device.phone_id}\")\n",
    "\n",
    "    print(f\"Battery level: {device.battery_level_percent}%\")\n",
    "    print(f\"Battery state: {device.battery_state}\")\n",
    "\n",
    "    print(f\"Free storage: {device.memory_num_free_bytes / 1024**3}GB\")\n",
    "    print(f\"Storage level: {device.memory_state}\")\n",
    "\n",
    "    print(f\"Connected glasses: SN {device.serial_number_glasses}\")\n",
    "    print(f\"Connected scene camera: SN {device.serial_number_scene_cam}\")\n",
    "    print()\n",
    "\n",
    "    device.close()  # explicitly stop auto-update"
   ]
  },
  {
   "cell_type": "code",
   "execution_count": 82,
   "metadata": {},
   "outputs": [],
   "source": [
    "barrier = threading.Barrier(2)  # Ensures both threads start together\n"
   ]
  },
  {
   "cell_type": "code",
   "execution_count": 85,
   "metadata": {},
   "outputs": [],
   "source": [
    "def start_single_recording(device, duration, barrier): \n",
    "    barrier.wait() \n",
    "    print(f\"Starting recording for {device.phone_name}\")\n",
    "    timestamp = datetime.now().strftime(\"%Y-%m-%d %H:%M:%S\")\n",
    "    print(\"Current timestamp:\", timestamp)\n",
    "    recording_id = device.recording_start()\n",
    "    print(f\"Started recording with id {recording_id}\")\n",
    "\n",
    "    time.sleep(duration)\n",
    "\n",
    "    device.recording_stop_and_save()\n",
    "\n",
    "    print(\"Recording stopped and saved\")\n",
    "    print(\"End timestamp\", datetime.now().strftime(\"%Y-%m-%d %H:%M:%S\"))\n",
    "    # device.recording_cancel()  # uncomment to cancel recording\n",
    "    device.close()"
   ]
  },
  {
   "cell_type": "code",
   "execution_count": 86,
   "metadata": {},
   "outputs": [
    {
     "name": "stdout",
     "output_type": "stream",
     "text": [
      "Starting recording for THEIAStarting recording for IRIS\n",
      "Current timestamp: 2025-02-20 17:14:59\n",
      "\n",
      "Current timestamp: 2025-02-20 17:14:59\n"
     ]
    },
    {
     "name": "stdout",
     "output_type": "stream",
     "text": [
      "Started recording with id 18ecd1aa-aa84-4601-8478-67a92c2c25f3\n",
      "Started recording with id 9c467f7e-fbba-4ea7-b834-90f6c9419137\n",
      "Recording stopped and saved\n",
      "End timestamp 2025-02-20 17:15:09\n",
      "Recording stopped and saved\n",
      "End timestamp 2025-02-20 17:15:09\n"
     ]
    }
   ],
   "source": [
    "threading.Thread(target=start_single_recording, args=(devices[0], 10, barrier)).start()\n",
    "threading.Thread(target=start_single_recording, args=(devices[1], 10, barrier)).start()"
   ]
  },
  {
   "cell_type": "code",
   "execution_count": 19,
   "metadata": {},
   "outputs": [
    {
     "name": "stdout",
     "output_type": "stream",
     "text": [
      "Starting recording\n",
      "Started recording with id 05d0bd6f-9ade-4e1a-8ed9-9499a90fff88\n",
      "Recording stopped and saved\n"
     ]
    }
   ],
   "source": [
    "from pupil_labs.realtime_api.simple import discover_one_device\n",
    "\n",
    " \n",
    "if device is None:\n",
    "    print(\"No device found.\")\n",
    "    raise SystemExit(-1)\n",
    "\n",
    "print(f\"Starting recording\")\n",
    "recording_id = device.recording_start()\n",
    "print(f\"Started recording with id {recording_id}\")\n",
    "\n",
    "time.sleep(12)\n",
    "\n",
    "device.recording_stop_and_save()\n",
    "\n",
    "print(\"Recording stopped and saved\")\n",
    "# device.recording_cancel()  # uncomment to cancel recording\n",
    "\n",
    "device.close()"
   ]
  },
  {
   "cell_type": "code",
   "execution_count": 7,
   "metadata": {},
   "outputs": [
    {
     "name": "stdout",
     "output_type": "stream",
     "text": [
      "Mean time offset: 17.3 ms\n",
      "Mean roundtrip duration: 32.89 ms\n"
     ]
    }
   ],
   "source": [
    "estimate = device.estimate_time_offset()\n",
    "if estimate is None:\n",
    "    device.close()\n",
    "    raise SystemExit(\"Pupil Companion app is too old\")\n",
    "\n",
    "print(f\"Mean time offset: {estimate.time_offset_ms.mean} ms\")\n",
    "print(f\"Mean roundtrip duration: {estimate.roundtrip_duration_ms.mean} ms\")"
   ]
  },
  {
   "cell_type": "code",
   "execution_count": null,
   "metadata": {},
   "outputs": [],
   "source": []
  }
 ],
 "metadata": {
  "kernelspec": {
   "display_name": "eyetracker",
   "language": "python",
   "name": "python3"
  },
  "language_info": {
   "codemirror_mode": {
    "name": "ipython",
    "version": 3
   },
   "file_extension": ".py",
   "mimetype": "text/x-python",
   "name": "python",
   "nbconvert_exporter": "python",
   "pygments_lexer": "ipython3",
   "version": "3.13.2"
  }
 },
 "nbformat": 4,
 "nbformat_minor": 2
}
